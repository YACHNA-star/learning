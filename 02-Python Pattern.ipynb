{
 "cells": [
  {
   "cell_type": "markdown",
   "id": "7adb30a5-0b61-4fc1-99de-80b04f4dc71a",
   "metadata": {},
   "source": [
    "##### *\n",
    "##### * *\n",
    "##### * * * \n",
    "##### * * * *\n",
    "<a><img src='pattern.png'></a>"
   ]
  },
  {
   "cell_type": "code",
   "execution_count": 59,
   "id": "8d576221-42f2-432e-90b7-bc9afb79c2a9",
   "metadata": {},
   "outputs": [
    {
     "name": "stdout",
     "output_type": "stream",
     "text": [
      "1\n",
      "2\n",
      "3\n",
      "4\n"
     ]
    }
   ],
   "source": [
    "for i in range(1,5):#no. of rows\n",
    "    print(i) # print next line by own "
   ]
  },
  {
   "cell_type": "code",
   "execution_count": 60,
   "id": "fc2b26d9-9771-4b42-83ee-5b760dae9b71",
   "metadata": {},
   "outputs": [
    {
     "name": "stdout",
     "output_type": "stream",
     "text": [
      "1234"
     ]
    }
   ],
   "source": [
    "for j in range(1,5):# no. of col\n",
    "    print(j,end=\"\") # use end=\"\" to go on next line"
   ]
  },
  {
   "cell_type": "code",
   "execution_count": 61,
   "id": "11593fb8-d33f-4d51-b39c-eefd08f097b0",
   "metadata": {},
   "outputs": [
    {
     "name": "stdout",
     "output_type": "stream",
     "text": [
      "1\n",
      "12\n",
      "123\n",
      "1234\n"
     ]
    }
   ],
   "source": [
    "for i in range(1,5):#no. of rows\n",
    "    for j in range(1,5):# no. of col\n",
    "        if(j<=i):\n",
    "          print(j,end=\"\") \n",
    "    print()"
   ]
  },
  {
   "cell_type": "code",
   "execution_count": 62,
   "id": "a4f9dbba-669f-4cd4-ad28-61ba24f4e3a2",
   "metadata": {},
   "outputs": [
    {
     "name": "stdout",
     "output_type": "stream",
     "text": [
      "*\n",
      "**\n",
      "***\n",
      "****\n"
     ]
    }
   ],
   "source": [
    "for i in range(0,4):#no. of rows\n",
    "        print(\"*\"*(i+1)) \n",
    "    "
   ]
  },
  {
   "cell_type": "markdown",
   "id": "8bc9be36-e5a3-4a66-a536-e6ee19c627da",
   "metadata": {},
   "source": [
    "##### 1\n",
    "##### 1 2\n",
    "##### 1 2 3\n",
    "##### 1 2 3 4"
   ]
  },
  {
   "cell_type": "code",
   "execution_count": 63,
   "id": "982769e2-aaf8-4e9f-91a4-91ffd7fe2a79",
   "metadata": {},
   "outputs": [
    {
     "name": "stdout",
     "output_type": "stream",
     "text": [
      "1\n",
      "12\n",
      "123\n",
      "1234\n"
     ]
    }
   ],
   "source": [
    "for i in range(1,5):#no. of rows\n",
    "    for j in range(1,i+1):# no. of col\n",
    "        print(j,end=\"\") \n",
    "    print()"
   ]
  },
  {
   "cell_type": "markdown",
   "id": "f81d336c-7e8a-4709-b116-6fff716d3ce0",
   "metadata": {},
   "source": [
    "##### 1\n",
    "##### 2 3\n",
    "##### 4 5 6\n",
    "##### 7 8 9 10"
   ]
  },
  {
   "cell_type": "code",
   "execution_count": 64,
   "id": "ae55bbea-3198-4ec5-8623-3dcfca48b7ea",
   "metadata": {},
   "outputs": [
    {
     "name": "stdout",
     "output_type": "stream",
     "text": [
      "1\n",
      "23\n",
      "456\n",
      "78910\n"
     ]
    }
   ],
   "source": [
    "n = 1\n",
    "for i in range(1,5):#no. of rows\n",
    "    for j in range(1,i+1):# no. of col\n",
    "        print(n,end=\"\") \n",
    "        n=n+1\n",
    "    print()"
   ]
  },
  {
   "cell_type": "markdown",
   "id": "fe5d497e-60a4-416f-851e-c554192bc165",
   "metadata": {},
   "source": [
    "##### 1\n",
    "##### 2 2\n",
    "##### 3 3 3\n",
    "##### 4 4 4 4"
   ]
  },
  {
   "cell_type": "code",
   "execution_count": 68,
   "id": "ce31e9a5-87ed-4248-a7cb-a7ef56d91da5",
   "metadata": {},
   "outputs": [
    {
     "name": "stdout",
     "output_type": "stream",
     "text": [
      "1\n",
      "22\n",
      "333\n",
      "4444\n"
     ]
    }
   ],
   "source": [
    "for i in range(1,5):#no. of rows\n",
    "    for j in range(1,i+1):# no. of col\n",
    "        print(i,end=\"\") \n",
    "    print()"
   ]
  },
  {
   "cell_type": "code",
   "execution_count": 70,
   "id": "c2e0f8ed-f328-4cad-9fe7-8f752cc1969d",
   "metadata": {},
   "outputs": [
    {
     "name": "stdout",
     "output_type": "stream",
     "text": [
      "1\n",
      "21\n",
      "321\n",
      "4321\n"
     ]
    }
   ],
   "source": [
    "for i in range(1,5):#no. of rows\n",
    "    for j in range(i,0,-1):# no. of col\n",
    "        print(j,end=\"\") \n",
    "    print()"
   ]
  },
  {
   "cell_type": "code",
   "execution_count": 74,
   "id": "79632764-1c7e-4457-b7ae-ef7489ddb8dc",
   "metadata": {},
   "outputs": [
    {
     "name": "stdout",
     "output_type": "stream",
     "text": [
      "1234\n",
      "123\n",
      "12\n",
      "1\n"
     ]
    }
   ],
   "source": [
    "for i in range(1,5):#no. of rows\n",
    "    for j in range(1,6-i):# no. of col\n",
    "        print(j,end=\"\") \n",
    "    print()"
   ]
  },
  {
   "cell_type": "code",
   "execution_count": 83,
   "id": "aa1c5482-d99f-4a0b-9e56-cd97035734bf",
   "metadata": {},
   "outputs": [
    {
     "name": "stdout",
     "output_type": "stream",
     "text": [
      "   1\n",
      "  12\n",
      " 123\n",
      "1234\n"
     ]
    }
   ],
   "source": [
    "for i in range(1,5):#no. of rows\n",
    "    for j in range(1,5-i):# no. of col\n",
    "        print(\" \",end=\"\") \n",
    "    for k in range(i):\n",
    "         print(k+1,end=\"\")\n",
    "    print()"
   ]
  },
  {
   "cell_type": "code",
   "execution_count": 89,
   "id": "a0b043c8-3fbb-47e2-8d67-fc90408c4b70",
   "metadata": {},
   "outputs": [
    {
     "name": "stdout",
     "output_type": "stream",
     "text": [
      "1234\n",
      " 123\n",
      "  12\n",
      "   1\n"
     ]
    }
   ],
   "source": [
    "for i in range(1,5):#no. of rows\n",
    "    for j in range(1,i):# no. of col\n",
    "        print(\" \",end=\"\") \n",
    "    for k in range(1,6-i):\n",
    "         print(k,end=\"\")\n",
    "    print()"
   ]
  },
  {
   "cell_type": "code",
   "execution_count": 147,
   "id": "441d9ef5-188b-43c9-84b7-827ad239717c",
   "metadata": {},
   "outputs": [
    {
     "name": "stdout",
     "output_type": "stream",
     "text": [
      "   *\n",
      "  ***\n",
      " *****\n",
      "*******\n",
      " *****\n",
      "  ***\n",
      "   *\n",
      "    \n"
     ]
    }
   ],
   "source": [
    "for i in range(0,4):#no. of rows\n",
    "    for j in range(1,5-(i+1)):# no. of col\n",
    "        print(\" \",end=\"\") \n",
    "    for k in range(2*i+1):\n",
    "         print(\"*\",end=\"\")\n",
    "    print()\n",
    "for i in range(4):#no. of rows\n",
    "    for j in range(1,i+2):# no. of col\n",
    "        print(\" \",end=\"\") \n",
    "    for k in range(6-(2*i+1),0,-1):\n",
    "         print(\"*\",end=\"\")\n",
    "    print()"
   ]
  },
  {
   "cell_type": "code",
   "execution_count": null,
   "id": "1112f8b0-ece3-487a-a6c1-f77d54593f7c",
   "metadata": {},
   "outputs": [],
   "source": []
  }
 ],
 "metadata": {
  "kernelspec": {
   "display_name": "Python 3 (ipykernel)",
   "language": "python",
   "name": "python3"
  },
  "language_info": {
   "codemirror_mode": {
    "name": "ipython",
    "version": 3
   },
   "file_extension": ".py",
   "mimetype": "text/x-python",
   "name": "python",
   "nbconvert_exporter": "python",
   "pygments_lexer": "ipython3",
   "version": "3.11.7"
  }
 },
 "nbformat": 4,
 "nbformat_minor": 5
}
